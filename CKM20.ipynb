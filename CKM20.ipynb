{
 "cells": [
  {
   "cell_type": "markdown",
   "metadata": {},
   "source": [
    "## 20. Условная оптимизация. Метод штрафных функций\n",
    "\n",
    "Рассмотрим один из многочисленных вариантов *метода штрафных функций*.\n",
    "Задача условной оптимизации\n",
    "$$\n",
    "   f(x) \\to \\min\n",
    "$$ \n",
    "при ограничениях \n",
    "$$\n",
    "g_1(x) = 0, \\dots, g_m(x) = 0, \\quad\n",
    "h_1(x) \\le 0, \\dots, h_p(x) \\le 0\n",
    "$$\n",
    "решается при помощи решения последовательности вспомогательных задач безусловной оптимизации:\n",
    "$$\n",
    "\\left(F(x) + c\\sum_{i=1}^m g(h_i)^2 + c\\sum_{k=1}^p \\left[ h(h_k) \\right]_+^2\\right) \\to \\min,\n",
    "$$\n",
    "где $c$ – некоторая возрастающая последовательность (например, геометрическая прогрессия),\n",
    "$[\\alpha]_+ = \\max\\{0,\\,\\alpha\\}$.\n",
    "\n",
    "Реализуйте данный метод. Для решения задачи безусловной оптимизации воспользуйтесь функциями из библиотеки SciPy.\n",
    "\n",
    "Проиллюстрируйте работу метода на двумерной и многомерных функциях Розенброка\n",
    "$$\n",
    "f(x_1,x_2,\\dots,x_n) = \\sum_{i=1}^{n-1} \\left(  (1-x_i)^2+ 100 (x_{i+1} - x_i^2 )^2 \\right) \n",
    "$$\n",
    "с линейными и квадратичными ограничениями.\n",
    "Для $n=2$ изобразите найденные точки минимума на каждой итерации."
   ]
  },
  {
   "cell_type": "markdown",
   "metadata": {},
   "source": [
    "Решение:\n",
    "Составим систему из трёх уравнений и решим их двумя методами: методом штрафных функций и методом Розенброка, с помощью метода minimize из библиотеки SciPy.\n"
   ]
  },
  {
   "cell_type": "markdown",
   "metadata": {},
   "source": [
    "Метод Розенброка. Метод Розенброка направлен на устранение одного из недостатков ме-тода покоординатного спуска – высокую чувствительность к выбору системы координат. Впроцессе поиска методом Розенброка производится поворот координатных осей так, чтобы од-на из осей была направлена вдоль направления “оврага”."
   ]
  },
  {
   "cell_type": "markdown",
   "metadata": {},
   "source": [
    "Уравнения: x_1-2x_2+2=0, -x_1-2x_2+6=0, -x_1-2x_2+2=0\n"
   ]
  },
  {
   "cell_type": "markdown",
   "metadata": {},
   "source": [
    "Составим систему уравнений в коде"
   ]
  },
  {
   "cell_type": "code",
   "execution_count": null,
   "metadata": {},
   "outputs": [],
   "source": [
    "from scipy.optimize import minimize, rosen\n",
    "rz = lambda x: (1-x[0])**2 + 100*(x[1] - x[0]**2)**2;#Функция Розенброка\n",
    "h_1 = lambda x: (x[0] - 2 * x[1] + 2);#\n",
    "h_2 = lambda x: (-x[0] - 2 * x[1] + 6);#\n",
    "h_3 = lambda x: (-x[0] + 2 * x[1] + 2);#Параметры исходя из ограничений"
   ]
  },
  {
   "cell_type": "markdown",
   "metadata": {},
   "source": [
    "Первый способ:\n",
    "Решить систему методом штрафных функций.\n",
    "Указываем исходную точку r и точность решения"
   ]
  },
  {
   "cell_type": "code",
   "execution_count": 3,
   "metadata": {},
   "outputs": [
    {
     "name": "stdout",
     "output_type": "stream",
     "text": [
      "[0.99495003 0.98991398]\n",
      "3\n"
     ]
    }
   ],
   "source": [
    "x_c = [2.3, 3]\n",
    "i = 1# Номер итерации\n",
    "r = 1\n",
    "b = 0.2\n",
    "eps = 0.01 #Точность вычислений\n",
    "while i < 1000:\n",
    "    curr_func = lambda x: rz(x) + r*(1.0/(h_1(x)**2 + h_2(x)**2 + h_3(x)**2))#Метод штрафных функций\n",
    "    x_c = minimize(curr_func, x_c).x;\n",
    "    i += 1\n",
    "    r  *= b;\n",
    "    if curr_func(x_c) < eps:#Условие достижения определённой точности\n",
    "        break\n",
    "print(x_c)\n",
    "print(i)\n"
   ]
  },
  {
   "cell_type": "markdown",
   "metadata": {},
   "source": [
    "Второй способ: Решить систему уравнений методом Розенброка, с помощью метода minimize из библиотеки SciPy."
   ]
  },
  {
   "cell_type": "code",
   "execution_count": 4,
   "metadata": {},
   "outputs": [
    {
     "name": "stdout",
     "output_type": "stream",
     "text": [
      "     fun: 9.406138556671796e-08\n",
      "     jac: array([ 0.00408084, -0.00232047])\n",
      " message: 'Optimization terminated successfully.'\n",
      "    nfev: 73\n",
      "     nit: 17\n",
      "    njev: 17\n",
      "  status: 0\n",
      " success: True\n",
      "       x: array([0.99971613, 0.99942073])\n"
     ]
    }
   ],
   "source": [
    "x0 = [2.3, 5];#Точки минимума и максимума\n",
    "cons = ({'type': 'ineq', 'fun': h_1},\n",
    "       {'type': 'ineq', 'fun': h_2},\n",
    "       {'type': 'ineq', 'fun': h_3}) \n",
    "print(minimize(rz, x0, constraints=cons))#Функция расчёта функции Розенберга"
   ]
  },
  {
   "cell_type": "markdown",
   "metadata": {},
   "source": [
    "Сравнение полученных результатов: можно заметить, что эти два способа похожи, но метод Розенброка решает систему уравнений с большей точностью"
   ]
  }
 ],
 "metadata": {
  "kernelspec": {
   "display_name": "Python 3",
   "language": "python",
   "name": "python3"
  },
  "language_info": {
   "codemirror_mode": {
    "name": "ipython",
    "version": 3
   },
   "file_extension": ".py",
   "mimetype": "text/x-python",
   "name": "python",
   "nbconvert_exporter": "python",
   "pygments_lexer": "ipython3",
   "version": "3.7.6"
  }
 },
 "nbformat": 4,
 "nbformat_minor": 4
}
